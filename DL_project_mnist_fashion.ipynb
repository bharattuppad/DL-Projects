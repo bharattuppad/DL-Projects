{
  "nbformat": 4,
  "nbformat_minor": 0,
  "metadata": {
    "colab": {
      "provenance": []
    },
    "kernelspec": {
      "name": "python3",
      "display_name": "Python 3"
    },
    "language_info": {
      "name": "python"
    }
  },
  "cells": [
    {
      "cell_type": "code",
      "execution_count": null,
      "metadata": {
        "id": "cSfPkvHMAyeK"
      },
      "outputs": [],
      "source": [
        "import numpy as np\n",
        "import pandas as pd\n",
        "import seaborn as sns\n",
        "import matplotlib.pyplot as plt\n",
        "\n",
        "import warnings\n",
        "warnings.filterwarnings(\"ignore\")"
      ]
    },
    {
      "cell_type": "code",
      "source": [
        "import tensorflow\n",
        "from tensorflow import keras\n",
        "from tensorflow.keras import Sequential\n",
        "from tensorflow.keras.layers import Dense,Flatten"
      ],
      "metadata": {
        "id": "5Mz_oSTpA9_v"
      },
      "execution_count": null,
      "outputs": []
    },
    {
      "cell_type": "code",
      "source": [
        "(xtrain, ytrain), (xtest, ytest) = keras.datasets.fashion_mnist.load_data()"
      ],
      "metadata": {
        "colab": {
          "base_uri": "https://localhost:8080/"
        },
        "id": "3D4nNIXwBDyG",
        "outputId": "f4dccd47-3af7-4858-8791-02f59fe2006a"
      },
      "execution_count": null,
      "outputs": [
        {
          "output_type": "stream",
          "name": "stdout",
          "text": [
            "Downloading data from https://storage.googleapis.com/tensorflow/tf-keras-datasets/train-labels-idx1-ubyte.gz\n",
            "29515/29515 [==============================] - 0s 0us/step\n",
            "Downloading data from https://storage.googleapis.com/tensorflow/tf-keras-datasets/train-images-idx3-ubyte.gz\n",
            "26421880/26421880 [==============================] - 0s 0us/step\n",
            "Downloading data from https://storage.googleapis.com/tensorflow/tf-keras-datasets/t10k-labels-idx1-ubyte.gz\n",
            "5148/5148 [==============================] - 0s 0us/step\n",
            "Downloading data from https://storage.googleapis.com/tensorflow/tf-keras-datasets/t10k-images-idx3-ubyte.gz\n",
            "4422102/4422102 [==============================] - 0s 0us/step\n"
          ]
        }
      ]
    },
    {
      "cell_type": "code",
      "source": [
        "xtrain[1]"
      ],
      "metadata": {
        "id": "t_sMgJrLBPnE"
      },
      "execution_count": null,
      "outputs": []
    },
    {
      "cell_type": "code",
      "source": [
        "xtrain[1].shape"
      ],
      "metadata": {
        "colab": {
          "base_uri": "https://localhost:8080/"
        },
        "id": "x-ltA1tfBRoc",
        "outputId": "cf4ba227-baf9-4a35-a820-4c1902971319"
      },
      "execution_count": null,
      "outputs": [
        {
          "output_type": "execute_result",
          "data": {
            "text/plain": [
              "(28, 28)"
            ]
          },
          "metadata": {},
          "execution_count": 6
        }
      ]
    },
    {
      "cell_type": "code",
      "source": [
        "plt.imshow(xtrain[1])"
      ],
      "metadata": {
        "colab": {
          "base_uri": "https://localhost:8080/",
          "height": 282
        },
        "id": "ed23eBxUBVek",
        "outputId": "14cdcefe-a099-489b-85ac-693ee18c9d2f"
      },
      "execution_count": null,
      "outputs": [
        {
          "output_type": "execute_result",
          "data": {
            "text/plain": [
              "<matplotlib.image.AxesImage at 0x7fac224376d0>"
            ]
          },
          "metadata": {},
          "execution_count": 7
        },
        {
          "output_type": "display_data",
          "data": {
            "text/plain": [
              "<Figure size 432x288 with 1 Axes>"
            ],
            "image/png": "[encoded data removed]"
          },
          "metadata": {
            "needs_background": "light"
          }
        }
      ]
    },
    {
      "cell_type": "code",
      "source": [
        "xtest[0]"
      ],
      "metadata": {
        "id": "y9E5ae7YBuj-"
      },
      "execution_count": null,
      "outputs": []
    },
    {
      "cell_type": "code",
      "source": [
        "ytest"
      ],
      "metadata": {
        "colab": {
          "base_uri": "https://localhost:8080/"
        },
        "id": "EVTLEzreBxoO",
        "outputId": "0aa6dc10-c3e4-44c1-997d-2429d58df8d3"
      },
      "execution_count": null,
      "outputs": [
        {
          "output_type": "execute_result",
          "data": {
            "text/plain": [
              "array([9, 2, 1, ..., 8, 1, 5], dtype=uint8)"
            ]
          },
          "metadata": {},
          "execution_count": 9
        }
      ]
    },
    {
      "cell_type": "code",
      "source": [
        "plt.imshow(xtest[1])"
      ],
      "metadata": {
        "colab": {
          "base_uri": "https://localhost:8080/",
          "height": 282
        },
        "id": "1enFkiPuByLG",
        "outputId": "43e7002e-45fa-485b-d8df-441e1a34cefd"
      },
      "execution_count": null,
      "outputs": [
        {
          "output_type": "execute_result",
          "data": {
            "text/plain": [
              "<matplotlib.image.AxesImage at 0x7fac1fb37280>"
            ]
          },
          "metadata": {},
          "execution_count": 10
        },
        {
          "output_type": "display_data",
          "data": {
            "text/plain": [
              "<Figure size 432x288 with 1 Axes>"
            ],
            "image/png": "[encoded data removed]"
          },
          "metadata": {
            "needs_background": "light"
          }
        }
      ]
    },
    {
      "cell_type": "code",
      "source": [
        "ytest[1]"
      ],
      "metadata": {
        "colab": {
          "base_uri": "https://localhost:8080/"
        },
        "id": "1CA12_LwCZmm",
        "outputId": "95244d55-ba33-4d44-e7f0-7cc8f0522a2b"
      },
      "execution_count": null,
      "outputs": [
        {
          "output_type": "execute_result",
          "data": {
            "text/plain": [
              "2"
            ]
          },
          "metadata": {},
          "execution_count": 12
        }
      ]
    },
    {
      "cell_type": "markdown",
      "source": [
        "#classification of ytest values\n",
        "0 -> t-shirt/top\n",
        "1 -> Trouser\n",
        "2 -> Pullover\n",
        "3 -> Dress\n",
        "4 -> Coat\n",
        "5 -> Sandal\n",
        "6 -> Shirt\n",
        "7 -> Sneaker\n",
        "8 -> Bag\n",
        "9 -> Ankle boot"
      ],
      "metadata": {
        "id": "hn6l_XfgDBvH"
      }
    },
    {
      "cell_type": "code",
      "source": [
        "#scaling the pixel size\n",
        "xtrain = xtrain / 255\n",
        "xtest = xtest / 255"
      ],
      "metadata": {
        "id": "i_YKUE1KC-J-"
      },
      "execution_count": null,
      "outputs": []
    },
    {
      "cell_type": "code",
      "source": [
        "xtrain.shape"
      ],
      "metadata": {
        "colab": {
          "base_uri": "https://localhost:8080/"
        },
        "id": "ljh5OrqgDbG_",
        "outputId": "9f252da4-4b13-4209-8199-0b5810aa1b3b"
      },
      "execution_count": null,
      "outputs": [
        {
          "output_type": "execute_result",
          "data": {
            "text/plain": [
              "(60000, 28, 28)"
            ]
          },
          "metadata": {},
          "execution_count": 15
        }
      ]
    },
    {
      "cell_type": "code",
      "source": [
        "ytrain"
      ],
      "metadata": {
        "colab": {
          "base_uri": "https://localhost:8080/"
        },
        "id": "ySPuXozZDeCW",
        "outputId": "4df2835e-c5da-46d8-8562-4477bb943d23"
      },
      "execution_count": null,
      "outputs": [
        {
          "output_type": "execute_result",
          "data": {
            "text/plain": [
              "array([9, 0, 0, ..., 3, 0, 5], dtype=uint8)"
            ]
          },
          "metadata": {},
          "execution_count": 16
        }
      ]
    },
    {
      "cell_type": "code",
      "source": [
        "#model building\n",
        "model = Sequential()\n",
        "\n",
        "model.add(Flatten(input_shape=(28,28)))\n",
        "\n",
        "model.add(Dense(128, activation='relu'))\n",
        "\n",
        "model.add(Dense(64, activation='relu'))\n",
        "\n",
        "#add output layer\n",
        "\n",
        "model.add(Dense(10, activation = 'softmax'))\n",
        "\n",
        "model.compile(loss='sparse_categorical_crossentropy', optimizer='adam',metrics=['accuracy'])"
      ],
      "metadata": {
        "id": "UdYI3O07DetH"
      },
      "execution_count": null,
      "outputs": []
    },
    {
      "cell_type": "code",
      "source": [
        "history = model.fit(xtrain, ytrain, epochs = 22, validation_split = 0.20)"
      ],
      "metadata": {
        "colab": {
          "base_uri": "https://localhost:8080/"
        },
        "id": "XkyPcG8FDqRX",
        "outputId": "3e665903-835a-41fd-bd21-b937dbaef4a7"
      },
      "execution_count": null,
      "outputs": [
        {
          "output_type": "stream",
          "name": "stdout",
          "text": [
            "Epoch 1/22\n",
            "1500/1500 [==============================] - 5s 3ms/step - loss: 0.5141 - accuracy: 0.8182 - val_loss: 0.4495 - val_accuracy: 0.8380\n",
            "Epoch 2/22\n",
            "1500/1500 [==============================] - 6s 4ms/step - loss: 0.3792 - accuracy: 0.8611 - val_loss: 0.3700 - val_accuracy: 0.8670\n",
            "Epoch 3/22\n",
            "1500/1500 [==============================] - 6s 4ms/step - loss: 0.3451 - accuracy: 0.8732 - val_loss: 0.3503 - val_accuracy: 0.8745\n",
            "Epoch 4/22\n",
            "1500/1500 [==============================] - 6s 4ms/step - loss: 0.3177 - accuracy: 0.8825 - val_loss: 0.3375 - val_accuracy: 0.8798\n",
            "Epoch 5/22\n",
            "1500/1500 [==============================] - 5s 3ms/step - loss: 0.3019 - accuracy: 0.8869 - val_loss: 0.3450 - val_accuracy: 0.8763\n",
            "Epoch 6/22\n",
            "1500/1500 [==============================] - 6s 4ms/step - loss: 0.2872 - accuracy: 0.8925 - val_loss: 0.3359 - val_accuracy: 0.8794\n",
            "Epoch 7/22\n",
            "1500/1500 [==============================] - 5s 3ms/step - loss: 0.2706 - accuracy: 0.8994 - val_loss: 0.3311 - val_accuracy: 0.8832\n",
            "Epoch 8/22\n",
            "1500/1500 [==============================] - 5s 3ms/step - loss: 0.2610 - accuracy: 0.9038 - val_loss: 0.3359 - val_accuracy: 0.8843\n",
            "Epoch 9/22\n",
            "1500/1500 [==============================] - 6s 4ms/step - loss: 0.2498 - accuracy: 0.9071 - val_loss: 0.3360 - val_accuracy: 0.8853\n",
            "Epoch 10/22\n",
            "1500/1500 [==============================] - 5s 3ms/step - loss: 0.2402 - accuracy: 0.9104 - val_loss: 0.3282 - val_accuracy: 0.8880\n",
            "Epoch 11/22\n",
            "1500/1500 [==============================] - 6s 4ms/step - loss: 0.2325 - accuracy: 0.9123 - val_loss: 0.3328 - val_accuracy: 0.8820\n",
            "Epoch 12/22\n",
            "1500/1500 [==============================] - 5s 3ms/step - loss: 0.2263 - accuracy: 0.9138 - val_loss: 0.3445 - val_accuracy: 0.8837\n",
            "Epoch 13/22\n",
            "1500/1500 [==============================] - 6s 4ms/step - loss: 0.2160 - accuracy: 0.9184 - val_loss: 0.3250 - val_accuracy: 0.8891\n",
            "Epoch 14/22\n",
            "1500/1500 [==============================] - 5s 3ms/step - loss: 0.2120 - accuracy: 0.9197 - val_loss: 0.3355 - val_accuracy: 0.8893\n",
            "Epoch 15/22\n",
            "1500/1500 [==============================] - 6s 4ms/step - loss: 0.2050 - accuracy: 0.9220 - val_loss: 0.3590 - val_accuracy: 0.8867\n",
            "Epoch 16/22\n",
            "1500/1500 [==============================] - 5s 3ms/step - loss: 0.1971 - accuracy: 0.9252 - val_loss: 0.3443 - val_accuracy: 0.8903\n",
            "Epoch 17/22\n",
            "1500/1500 [==============================] - 6s 4ms/step - loss: 0.1926 - accuracy: 0.9266 - val_loss: 0.3456 - val_accuracy: 0.8918\n",
            "Epoch 18/22\n",
            "1500/1500 [==============================] - 5s 3ms/step - loss: 0.1864 - accuracy: 0.9293 - val_loss: 0.3588 - val_accuracy: 0.8891\n",
            "Epoch 19/22\n",
            "1500/1500 [==============================] - 5s 4ms/step - loss: 0.1813 - accuracy: 0.9311 - val_loss: 0.3706 - val_accuracy: 0.8903\n",
            "Epoch 20/22\n",
            "1500/1500 [==============================] - 6s 4ms/step - loss: 0.1738 - accuracy: 0.9340 - val_loss: 0.3732 - val_accuracy: 0.8914\n",
            "Epoch 21/22\n",
            "1500/1500 [==============================] - 5s 3ms/step - loss: 0.1721 - accuracy: 0.9346 - val_loss: 0.3616 - val_accuracy: 0.8917\n",
            "Epoch 22/22\n",
            "1500/1500 [==============================] - 6s 4ms/step - loss: 0.1650 - accuracy: 0.9375 - val_loss: 0.3598 - val_accuracy: 0.8975\n"
          ]
        }
      ]
    },
    {
      "cell_type": "code",
      "source": [
        "yprob = model.predict(xtest)"
      ],
      "metadata": {
        "colab": {
          "base_uri": "https://localhost:8080/"
        },
        "id": "afypVk3JDwie",
        "outputId": "57eef479-b4a0-47d7-e62a-9fc9e0ad0ddf"
      },
      "execution_count": null,
      "outputs": [
        {
          "output_type": "stream",
          "name": "stdout",
          "text": [
            "313/313 [==============================] - 0s 1ms/step\n"
          ]
        }
      ]
    },
    {
      "cell_type": "code",
      "source": [
        "yprob[0]"
      ],
      "metadata": {
        "colab": {
          "base_uri": "https://localhost:8080/"
        },
        "id": "ytCe8RjaG-DX",
        "outputId": "105cb39a-4b9e-4787-e3c2-3995c0f45e47"
      },
      "execution_count": null,
      "outputs": [
        {
          "output_type": "execute_result",
          "data": {
            "text/plain": [
              "array([2.5166707e-12, 5.4519815e-09, 8.2813346e-11, 2.0847565e-10,\n",
              "       7.4046780e-10, 5.2866144e-06, 3.8222909e-09, 1.0013238e-03,\n",
              "       1.3149183e-12, 9.9899328e-01], dtype=float32)"
            ]
          },
          "metadata": {},
          "execution_count": 29
        }
      ]
    },
    {
      "cell_type": "code",
      "source": [
        "ypred = yprob.argmax(axis=1)"
      ],
      "metadata": {
        "id": "B97eXx0oHADP"
      },
      "execution_count": null,
      "outputs": []
    },
    {
      "cell_type": "code",
      "source": [
        "ypred"
      ],
      "metadata": {
        "colab": {
          "base_uri": "https://localhost:8080/"
        },
        "id": "QyidjygnHBu3",
        "outputId": "9c7088c4-2407-4e1c-9d54-ea042956594c"
      },
      "execution_count": null,
      "outputs": [
        {
          "output_type": "execute_result",
          "data": {
            "text/plain": [
              "array([9, 2, 1, ..., 8, 1, 5])"
            ]
          },
          "metadata": {},
          "execution_count": 31
        }
      ]
    },
    {
      "cell_type": "code",
      "source": [
        "from sklearn.metrics import classification_report"
      ],
      "metadata": {
        "id": "bAU3TNxNHDxv"
      },
      "execution_count": null,
      "outputs": []
    },
    {
      "cell_type": "code",
      "source": [
        "print(classification_report(ytest, ypred))"
      ],
      "metadata": {
        "colab": {
          "base_uri": "https://localhost:8080/"
        },
        "id": "ePPTIPpOHFd_",
        "outputId": "324ab5de-b2bb-4b41-ca04-2310a81244b0"
      },
      "execution_count": null,
      "outputs": [
        {
          "output_type": "stream",
          "name": "stdout",
          "text": [
            "              precision    recall  f1-score   support\n",
            "\n",
            "           0       0.84      0.84      0.84      1000\n",
            "           1       0.99      0.98      0.98      1000\n",
            "           2       0.81      0.81      0.81      1000\n",
            "           3       0.91      0.87      0.89      1000\n",
            "           4       0.79      0.85      0.82      1000\n",
            "           5       0.98      0.95      0.97      1000\n",
            "           6       0.72      0.70      0.71      1000\n",
            "           7       0.93      0.98      0.95      1000\n",
            "           8       0.97      0.97      0.97      1000\n",
            "           9       0.97      0.94      0.95      1000\n",
            "\n",
            "    accuracy                           0.89     10000\n",
            "   macro avg       0.89      0.89      0.89     10000\n",
            "weighted avg       0.89      0.89      0.89     10000\n",
            "\n"
          ]
        }
      ]
    },
    {
      "cell_type": "code",
      "source": [
        "plt.plot(history.history['loss'])\n",
        "plt.plot(history.history['val_loss'])"
      ],
      "metadata": {
        "colab": {
          "base_uri": "https://localhost:8080/",
          "height": 282
        },
        "id": "J11L9kBAHHFf",
        "outputId": "d09bf993-e84a-4b6d-af82-e4523c1e0918"
      },
      "execution_count": null,
      "outputs": [
        {
          "output_type": "execute_result",
          "data": {
            "text/plain": [
              "[<matplotlib.lines.Line2D at 0x7fabfa5e3dc0>]"
            ]
          },
          "metadata": {},
          "execution_count": 34
        },
        {
          "output_type": "display_data",
          "data": {
            "text/plain": [
              "<Figure size 432x288 with 1 Axes>"
            ],
            "image/png": "[encoded data removed]"
          },
          "metadata": {
            "needs_background": "light"
          }
        }
      ]
    },
    {
      "cell_type": "code",
      "source": [],
      "metadata": {
        "id": "vYeKG-NIHKbX"
      },
      "execution_count": null,
      "outputs": []
    }
  ]
}